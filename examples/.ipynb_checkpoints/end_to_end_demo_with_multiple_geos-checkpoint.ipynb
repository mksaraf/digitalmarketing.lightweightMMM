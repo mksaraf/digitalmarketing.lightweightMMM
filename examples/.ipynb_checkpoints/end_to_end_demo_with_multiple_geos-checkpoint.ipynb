{
 "cells": [
  {
   "cell_type": "markdown",
   "metadata": {
    "id": "x1LyGCNZhWBH"
   },
   "source": [
    ":<table class=\"tfo-notebook-buttons\" align=\"left\">\n",
    "  <td>\n",
    "    <a target=\"_blank\" href=\"https://colab.research.google.com/github/google/lightweight_mmm/blob/main/examples/end_to_end_demo_with_multiple_geos.ipynb\"><img src=\"https://www.tensorflow.org/images/colab_logo_32px.png\" />Run in Google Colab</a>\n",
    "  </td>\n",
    "  <td>\n",
    "    <a target=\"_blank\" href=\"https://github.com/google/lightweight_mmm/blob/main/examples/end_to_end_demo_with_multiple_geos.ipynb\"><img src=\"https://www.tensorflow.org/images/GitHub-Mark-32px.png\" />View source on GitHub</a>\n",
    "  </td>\n",
    "</table>"
   ]
  },
  {
   "cell_type": "markdown",
   "metadata": {
    "id": "AEdi78qH1Jhq"
   },
   "source": [
    "# End to End Demo with Multiple Geos"
   ]
  },
  {
   "cell_type": "markdown",
   "metadata": {
    "id": "Kz-eYQ7TKVG9"
   },
   "source": [
    "Welcome to the end to end demo of LightweightMMM, with multiple geos. This is a very simple demo in which we showcase the basic usage and functionalities of the library."
   ]
  },
  {
   "cell_type": "markdown",
   "metadata": {
    "id": "gmrJXoY2PlKI"
   },
   "source": [
    "Disclaimer: This notebook skips all exploratory data analysis and preprocessing (besides scaling) and assumes the user will do or has done it prior to engaging this point of the demo.\n",
    "\n",
    "This notebook uses dummy data and therefore the numbers and results might not be representative of what one might get on a real dataset. \n",
    "\n",
    "This notebook is nearly identical to the simple_end_to_end_demo notebook, but uses multiple geos to showcase that functionality."
   ]
  },
  {
   "cell_type": "markdown",
   "metadata": {
    "id": "WmpDBp6dusp0"
   },
   "source": [
    "For running chains in parallel you can set the number of CPUs at the begining of the program like the following:\n",
    "`numpyro.set_host_device_count(n)`"
   ]
  },
  {
   "cell_type": "code",
   "execution_count": null,
   "metadata": {
    "id": "EmkFKiQjZ7kC"
   },
   "outputs": [],
   "source": [
    "# First would be to install lightweight_mmm\n",
    "!pip install --upgrade git+https://github.com/google/lightweight_mmm.git"
   ]
  },
  {
   "cell_type": "code",
   "execution_count": 1,
   "metadata": {
    "id": "afF7ZlEz37eC"
   },
   "outputs": [
    {
     "name": "stderr",
     "output_type": "stream",
     "text": [
      "/usr/local/anaconda3/envs/py310/lib/python3.10/site-packages/tqdm/auto.py:22: TqdmWarning: IProgress not found. Please update jupyter and ipywidgets. See https://ipywidgets.readthedocs.io/en/stable/user_install.html\n",
      "  from .autonotebook import tqdm as notebook_tqdm\n"
     ]
    }
   ],
   "source": [
    "# Import jax.numpy and any other library we might need.\n",
    "import jax.numpy as jnp\n",
    "import numpyro"
   ]
  },
  {
   "cell_type": "code",
   "execution_count": 2,
   "metadata": {
    "id": "Ltk-rB9y-_fh"
   },
   "outputs": [],
   "source": [
    "# Import the relevant modules of the library\n",
    "from lightweight_mmm import lightweight_mmm\n",
    "from lightweight_mmm import optimize_media\n",
    "from lightweight_mmm import plot\n",
    "from lightweight_mmm import preprocessing\n",
    "from lightweight_mmm import utils"
   ]
  },
  {
   "cell_type": "markdown",
   "metadata": {
    "id": "lGa5iPF4zdOo"
   },
   "source": [
    "## Organising the data for modelling"
   ]
  },
  {
   "cell_type": "code",
   "execution_count": 3,
   "metadata": {
    "id": "AF0gS72Hhwml"
   },
   "outputs": [],
   "source": [
    "SEED = 105"
   ]
  },
  {
   "cell_type": "code",
   "execution_count": 4,
   "metadata": {
    "id": "R6oDCH5w4M_y"
   },
   "outputs": [],
   "source": [
    "data_size = 104 + 13\n",
    "n_media_channels = 3\n",
    "n_extra_features = 1\n",
    "n_geos = 2"
   ]
  },
  {
   "cell_type": "code",
   "execution_count": 5,
   "metadata": {
    "id": "kOq-mfJO4QVP"
   },
   "outputs": [],
   "source": [
    "media_data, extra_features, target, costs = utils.simulate_dummy_data(\n",
    "    data_size=data_size,\n",
    "    n_media_channels=n_media_channels,\n",
    "    n_extra_features=n_extra_features,\n",
    "    geos=n_geos)"
   ]
  },
  {
   "cell_type": "markdown",
   "metadata": {
    "id": "58yFB05A4e0j"
   },
   "source": [
    "We can then split the dataset into train and test. Lets leave only the last 13 weeks for testing in this case. Note that this train/test split looks exactly the same as the notebook without multiple geos."
   ]
  },
  {
   "cell_type": "code",
   "execution_count": 6,
   "metadata": {
    "id": "xMMKo3fK4UN4"
   },
   "outputs": [],
   "source": [
    "# Split and scale data.\n",
    "split_point = data_size - 13\n",
    "# Media data\n",
    "media_data_train = media_data[:split_point, ...]\n",
    "media_data_test = media_data[split_point:, ...]\n",
    "# Extra features\n",
    "extra_features_train = extra_features[:split_point, ...]\n",
    "extra_features_test = extra_features[split_point:, ...]\n",
    "# Target\n",
    "target_train = target[:split_point]"
   ]
  },
  {
   "cell_type": "markdown",
   "metadata": {
    "id": "A0pZBcF14lPV"
   },
   "source": [
    "Scaling is essential for many modelling problems and this one is no exception.\n",
    "\n",
    "We provide the class `CustomScaler` which behaves accordingly with `sklearn`\n",
    "scalers.\n",
    "\n",
    "In most cases you will need 3 or 4 scalers. One scaler for the media data, one\n",
    "for the target and one for costs. Optionally if you are adding extra features\n",
    "those might need an extra scaler. **It is very important that you save and\n",
    "\"carry with you\" those scalers throughout your MMM journey as LighweightMMM will\n",
    "allow you to re-insert these scalers at different points to ensure everything is\n",
    "always in the correct scale and results. If some results don't make sense, it\n",
    "might be a scaling problem.**"
   ]
  },
  {
   "cell_type": "markdown",
   "metadata": {
    "id": "tGAjohQH4qCO"
   },
   "source": [
    "A few more details on CustomScaler usage:\n",
    "\n",
    "This scaler can be used in two fashions for both the multiplication and division\n",
    "operation. \n",
    "- By specifying a value to use for the scaling operation. \n",
    "- By specifying an operation used at column level to calculate the value for the\n",
    "actual scaling operation.\n",
    "\n",
    "Eg. if one wants to scale the dataset by multiply by 100 you can directly pass\n",
    "multiply_by=100. Value can also be an array of an appropriate shape by which\n",
    "to divide or multiply the data. But if you want to multiply by the mean value of each\n",
    "column, then you can pass multiply_operation=jnp.mean (or any other operation\n",
    "desired).\n",
    "\n",
    "Operation parameters have the upper hand in the cases where both values and\n",
    "operations are passed, values will be ignored in this case.\n",
    "\n",
    "Consult the full class documentation if you still need to know more.\n",
    "\n",
    "In this demo we divide the data on media, extra features and the target by their mean to ensure that the result has a mean of 1. This allows the model to be agnostic to the scale of the inputs (e.g. a user can use either the number of sales or the value of sales). The costs are not used in the model directly, they are only used to inform the prior distributions on the media variables (see the [model documentation](https://lightweight-mmm.readthedocs.io/en/latest/models.html) here). These costs have been scaled down by multiplying by 0.15 to reflect typical ranges in MMMs. "
   ]
  },
  {
   "cell_type": "code",
   "execution_count": 7,
   "metadata": {
    "id": "B-19ZTfx4uh5"
   },
   "outputs": [],
   "source": [
    "media_scaler = preprocessing.CustomScaler(divide_operation=jnp.mean)\n",
    "extra_features_scaler = preprocessing.CustomScaler(divide_operation=jnp.mean)\n",
    "target_scaler = preprocessing.CustomScaler(divide_operation=jnp.mean)\n",
    "cost_scaler = preprocessing.CustomScaler(divide_operation=jnp.mean, multiply_by=0.15)\n",
    "\n",
    "media_data_train = media_scaler.fit_transform(media_data_train)\n",
    "extra_features_train = extra_features_scaler.fit_transform(extra_features_train)\n",
    "target_train = target_scaler.fit_transform(target_train)\n",
    "costs = cost_scaler.fit_transform(costs)"
   ]
  },
  {
   "cell_type": "markdown",
   "metadata": {
    "id": "Ce0vm2MDpr0E"
   },
   "source": [
    "### Checking data quality"
   ]
  },
  {
   "cell_type": "markdown",
   "metadata": {
    "id": "P-YBP2YLpwAM"
   },
   "source": [
    "Before putting data into a model, the data should always be examined by hand to make sure everything is correct, and to check for potential issues that might affect the modeling process. We include a data quality check in LMMM which checks for a few common issues. This is not an exhaustive set of checks, however, and most of the exploratory data anlysis will still have do be done manually based on your judgment. "
   ]
  },
  {
   "cell_type": "code",
   "execution_count": 8,
   "metadata": {
    "id": "-dgxOv6Bp5J0"
   },
   "outputs": [],
   "source": [
    "correlations, variances, spend_fractions, variance_inflation_factors = preprocessing.check_data_quality(\n",
    "    media_data=media_scaler.transform(media_data),\n",
    "    target_data=target_scaler.transform(target),\n",
    "    cost_data=costs,\n",
    "    extra_features_data=extra_features_scaler.transform(extra_features))"
   ]
  },
  {
   "cell_type": "markdown",
   "metadata": {
    "id": "B_43p30op7dW"
   },
   "source": [
    "**Step 1: Checking the correlation matrix**\n",
    "\n",
    "The below cell shows the a correlation matrix between all the features, and between each feature and the target. We create one matrix for each geo and display them all below. Very positive or very negative correlations (with an absolute value above, say, 0.7 or so) should be treated with caution. In this case you might consider dropping or merging highly correlated features. "
   ]
  },
  {
   "cell_type": "code",
   "execution_count": 9,
   "metadata": {
    "colab": {
     "height": 474
    },
    "executionInfo": {
     "elapsed": 125,
     "status": "ok",
     "timestamp": 1671214955102,
     "user": {
      "displayName": "Mike Anderson",
      "userId": "00199021437350119208"
     },
     "user_tz": 360
    },
    "id": "UbGGIHPa-MD_",
    "outputId": "d142e0e9-0423-4a06-8247-36cfbd300df1"
   },
   "outputs": [
    {
     "data": {
      "text/plain": [
       "'geo 0'"
      ]
     },
     "metadata": {},
     "output_type": "display_data"
    },
    {
     "name": "stderr",
     "output_type": "stream",
     "text": [
      "/var/folders/b3/s5w4by_d2lgf312k7x5704tw0000gn/T/ipykernel_41755/3130763376.py:5: FutureWarning: this method is deprecated in favour of `Styler.format(precision=..)`\n",
      "  display(corr_matrix.style.background_gradient(cmap='RdBu', vmin=-1, vmax=1).set_precision(3))\n"
     ]
    },
    {
     "data": {
      "text/html": [
       "<style type=\"text/css\">\n",
       "#T_84932_row0_col0, #T_84932_row1_col1, #T_84932_row2_col2, #T_84932_row3_col3, #T_84932_row4_col4 {\n",
       "  background-color: #053061;\n",
       "  color: #f1f1f1;\n",
       "}\n",
       "#T_84932_row0_col1, #T_84932_row1_col0, #T_84932_row1_col3, #T_84932_row3_col1 {\n",
       "  background-color: #e6eff4;\n",
       "  color: #000000;\n",
       "}\n",
       "#T_84932_row0_col2, #T_84932_row2_col0 {\n",
       "  background-color: #e9f0f4;\n",
       "  color: #000000;\n",
       "}\n",
       "#T_84932_row0_col3, #T_84932_row3_col0 {\n",
       "  background-color: #eff3f5;\n",
       "  color: #000000;\n",
       "}\n",
       "#T_84932_row0_col4, #T_84932_row4_col0 {\n",
       "  background-color: #f8f2ef;\n",
       "  color: #000000;\n",
       "}\n",
       "#T_84932_row1_col2, #T_84932_row2_col1 {\n",
       "  background-color: #f9f0eb;\n",
       "  color: #000000;\n",
       "}\n",
       "#T_84932_row1_col4, #T_84932_row4_col1 {\n",
       "  background-color: #bddbea;\n",
       "  color: #000000;\n",
       "}\n",
       "#T_84932_row2_col3, #T_84932_row3_col2 {\n",
       "  background-color: #fbe6da;\n",
       "  color: #000000;\n",
       "}\n",
       "#T_84932_row2_col4, #T_84932_row4_col2 {\n",
       "  background-color: #d1e5f0;\n",
       "  color: #000000;\n",
       "}\n",
       "#T_84932_row3_col4, #T_84932_row4_col3 {\n",
       "  background-color: #e3edf3;\n",
       "  color: #000000;\n",
       "}\n",
       "</style>\n",
       "<table id=\"T_84932\">\n",
       "  <thead>\n",
       "    <tr>\n",
       "      <th class=\"blank level0\" >&nbsp;</th>\n",
       "      <th id=\"T_84932_level0_col0\" class=\"col_heading level0 col0\" >feature_0</th>\n",
       "      <th id=\"T_84932_level0_col1\" class=\"col_heading level0 col1\" >feature_1</th>\n",
       "      <th id=\"T_84932_level0_col2\" class=\"col_heading level0 col2\" >feature_2</th>\n",
       "      <th id=\"T_84932_level0_col3\" class=\"col_heading level0 col3\" >extra_feature_0</th>\n",
       "      <th id=\"T_84932_level0_col4\" class=\"col_heading level0 col4\" >target</th>\n",
       "    </tr>\n",
       "  </thead>\n",
       "  <tbody>\n",
       "    <tr>\n",
       "      <th id=\"T_84932_level0_row0\" class=\"row_heading level0 row0\" >feature_0</th>\n",
       "      <td id=\"T_84932_row0_col0\" class=\"data row0 col0\" >1.000</td>\n",
       "      <td id=\"T_84932_row0_col1\" class=\"data row0 col1\" >0.088</td>\n",
       "      <td id=\"T_84932_row0_col2\" class=\"data row0 col2\" >0.074</td>\n",
       "      <td id=\"T_84932_row0_col3\" class=\"data row0 col3\" >0.042</td>\n",
       "      <td id=\"T_84932_row0_col4\" class=\"data row0 col4\" >-0.033</td>\n",
       "    </tr>\n",
       "    <tr>\n",
       "      <th id=\"T_84932_level0_row1\" class=\"row_heading level0 row1\" >feature_1</th>\n",
       "      <td id=\"T_84932_row1_col0\" class=\"data row1 col0\" >0.088</td>\n",
       "      <td id=\"T_84932_row1_col1\" class=\"data row1 col1\" >1.000</td>\n",
       "      <td id=\"T_84932_row1_col2\" class=\"data row1 col2\" >-0.051</td>\n",
       "      <td id=\"T_84932_row1_col3\" class=\"data row1 col3\" >0.091</td>\n",
       "      <td id=\"T_84932_row1_col4\" class=\"data row1 col4\" >0.264</td>\n",
       "    </tr>\n",
       "    <tr>\n",
       "      <th id=\"T_84932_level0_row2\" class=\"row_heading level0 row2\" >feature_2</th>\n",
       "      <td id=\"T_84932_row2_col0\" class=\"data row2 col0\" >0.074</td>\n",
       "      <td id=\"T_84932_row2_col1\" class=\"data row2 col1\" >-0.051</td>\n",
       "      <td id=\"T_84932_row2_col2\" class=\"data row2 col2\" >1.000</td>\n",
       "      <td id=\"T_84932_row2_col3\" class=\"data row2 col3\" >-0.121</td>\n",
       "      <td id=\"T_84932_row2_col4\" class=\"data row2 col4\" >0.198</td>\n",
       "    </tr>\n",
       "    <tr>\n",
       "      <th id=\"T_84932_level0_row3\" class=\"row_heading level0 row3\" >extra_feature_0</th>\n",
       "      <td id=\"T_84932_row3_col0\" class=\"data row3 col0\" >0.042</td>\n",
       "      <td id=\"T_84932_row3_col1\" class=\"data row3 col1\" >0.091</td>\n",
       "      <td id=\"T_84932_row3_col2\" class=\"data row3 col2\" >-0.121</td>\n",
       "      <td id=\"T_84932_row3_col3\" class=\"data row3 col3\" >1.000</td>\n",
       "      <td id=\"T_84932_row3_col4\" class=\"data row3 col4\" >0.109</td>\n",
       "    </tr>\n",
       "    <tr>\n",
       "      <th id=\"T_84932_level0_row4\" class=\"row_heading level0 row4\" >target</th>\n",
       "      <td id=\"T_84932_row4_col0\" class=\"data row4 col0\" >-0.033</td>\n",
       "      <td id=\"T_84932_row4_col1\" class=\"data row4 col1\" >0.264</td>\n",
       "      <td id=\"T_84932_row4_col2\" class=\"data row4 col2\" >0.198</td>\n",
       "      <td id=\"T_84932_row4_col3\" class=\"data row4 col3\" >0.109</td>\n",
       "      <td id=\"T_84932_row4_col4\" class=\"data row4 col4\" >1.000</td>\n",
       "    </tr>\n",
       "  </tbody>\n",
       "</table>\n"
      ],
      "text/plain": [
       "<pandas.io.formats.style.Styler at 0x7fdab6267d90>"
      ]
     },
     "metadata": {},
     "output_type": "display_data"
    },
    {
     "data": {
      "text/plain": [
       "'--------------------------------------------------------------------'"
      ]
     },
     "metadata": {},
     "output_type": "display_data"
    },
    {
     "data": {
      "text/plain": [
       "'geo 1'"
      ]
     },
     "metadata": {},
     "output_type": "display_data"
    },
    {
     "data": {
      "text/html": [
       "<style type=\"text/css\">\n",
       "#T_3b7b5_row0_col0, #T_3b7b5_row1_col1, #T_3b7b5_row2_col2, #T_3b7b5_row3_col3, #T_3b7b5_row4_col4 {\n",
       "  background-color: #053061;\n",
       "  color: #f1f1f1;\n",
       "}\n",
       "#T_3b7b5_row0_col1, #T_3b7b5_row1_col0, #T_3b7b5_row1_col3, #T_3b7b5_row3_col1 {\n",
       "  background-color: #e6eff4;\n",
       "  color: #000000;\n",
       "}\n",
       "#T_3b7b5_row0_col2, #T_3b7b5_row2_col0 {\n",
       "  background-color: #e9f0f4;\n",
       "  color: #000000;\n",
       "}\n",
       "#T_3b7b5_row0_col3, #T_3b7b5_row3_col0 {\n",
       "  background-color: #eff3f5;\n",
       "  color: #000000;\n",
       "}\n",
       "#T_3b7b5_row0_col4, #T_3b7b5_row4_col0 {\n",
       "  background-color: #f8f2ef;\n",
       "  color: #000000;\n",
       "}\n",
       "#T_3b7b5_row1_col2, #T_3b7b5_row2_col1 {\n",
       "  background-color: #f9f0eb;\n",
       "  color: #000000;\n",
       "}\n",
       "#T_3b7b5_row1_col4, #T_3b7b5_row4_col1 {\n",
       "  background-color: #b6d7e8;\n",
       "  color: #000000;\n",
       "}\n",
       "#T_3b7b5_row2_col3, #T_3b7b5_row3_col2 {\n",
       "  background-color: #fbe6da;\n",
       "  color: #000000;\n",
       "}\n",
       "#T_3b7b5_row2_col4, #T_3b7b5_row4_col2 {\n",
       "  background-color: #d4e6f1;\n",
       "  color: #000000;\n",
       "}\n",
       "#T_3b7b5_row3_col4, #T_3b7b5_row4_col3 {\n",
       "  background-color: #ddebf2;\n",
       "  color: #000000;\n",
       "}\n",
       "</style>\n",
       "<table id=\"T_3b7b5\">\n",
       "  <thead>\n",
       "    <tr>\n",
       "      <th class=\"blank level0\" >&nbsp;</th>\n",
       "      <th id=\"T_3b7b5_level0_col0\" class=\"col_heading level0 col0\" >feature_0</th>\n",
       "      <th id=\"T_3b7b5_level0_col1\" class=\"col_heading level0 col1\" >feature_1</th>\n",
       "      <th id=\"T_3b7b5_level0_col2\" class=\"col_heading level0 col2\" >feature_2</th>\n",
       "      <th id=\"T_3b7b5_level0_col3\" class=\"col_heading level0 col3\" >extra_feature_0</th>\n",
       "      <th id=\"T_3b7b5_level0_col4\" class=\"col_heading level0 col4\" >target</th>\n",
       "    </tr>\n",
       "  </thead>\n",
       "  <tbody>\n",
       "    <tr>\n",
       "      <th id=\"T_3b7b5_level0_row0\" class=\"row_heading level0 row0\" >feature_0</th>\n",
       "      <td id=\"T_3b7b5_row0_col0\" class=\"data row0 col0\" >1.000</td>\n",
       "      <td id=\"T_3b7b5_row0_col1\" class=\"data row0 col1\" >0.088</td>\n",
       "      <td id=\"T_3b7b5_row0_col2\" class=\"data row0 col2\" >0.074</td>\n",
       "      <td id=\"T_3b7b5_row0_col3\" class=\"data row0 col3\" >0.042</td>\n",
       "      <td id=\"T_3b7b5_row0_col4\" class=\"data row0 col4\" >-0.039</td>\n",
       "    </tr>\n",
       "    <tr>\n",
       "      <th id=\"T_3b7b5_level0_row1\" class=\"row_heading level0 row1\" >feature_1</th>\n",
       "      <td id=\"T_3b7b5_row1_col0\" class=\"data row1 col0\" >0.088</td>\n",
       "      <td id=\"T_3b7b5_row1_col1\" class=\"data row1 col1\" >1.000</td>\n",
       "      <td id=\"T_3b7b5_row1_col2\" class=\"data row1 col2\" >-0.051</td>\n",
       "      <td id=\"T_3b7b5_row1_col3\" class=\"data row1 col3\" >0.091</td>\n",
       "      <td id=\"T_3b7b5_row1_col4\" class=\"data row1 col4\" >0.283</td>\n",
       "    </tr>\n",
       "    <tr>\n",
       "      <th id=\"T_3b7b5_level0_row2\" class=\"row_heading level0 row2\" >feature_2</th>\n",
       "      <td id=\"T_3b7b5_row2_col0\" class=\"data row2 col0\" >0.074</td>\n",
       "      <td id=\"T_3b7b5_row2_col1\" class=\"data row2 col1\" >-0.051</td>\n",
       "      <td id=\"T_3b7b5_row2_col2\" class=\"data row2 col2\" >1.000</td>\n",
       "      <td id=\"T_3b7b5_row2_col3\" class=\"data row2 col3\" >-0.121</td>\n",
       "      <td id=\"T_3b7b5_row2_col4\" class=\"data row2 col4\" >0.182</td>\n",
       "    </tr>\n",
       "    <tr>\n",
       "      <th id=\"T_3b7b5_level0_row3\" class=\"row_heading level0 row3\" >extra_feature_0</th>\n",
       "      <td id=\"T_3b7b5_row3_col0\" class=\"data row3 col0\" >0.042</td>\n",
       "      <td id=\"T_3b7b5_row3_col1\" class=\"data row3 col1\" >0.091</td>\n",
       "      <td id=\"T_3b7b5_row3_col2\" class=\"data row3 col2\" >-0.121</td>\n",
       "      <td id=\"T_3b7b5_row3_col3\" class=\"data row3 col3\" >1.000</td>\n",
       "      <td id=\"T_3b7b5_row3_col4\" class=\"data row3 col4\" >0.139</td>\n",
       "    </tr>\n",
       "    <tr>\n",
       "      <th id=\"T_3b7b5_level0_row4\" class=\"row_heading level0 row4\" >target</th>\n",
       "      <td id=\"T_3b7b5_row4_col0\" class=\"data row4 col0\" >-0.039</td>\n",
       "      <td id=\"T_3b7b5_row4_col1\" class=\"data row4 col1\" >0.283</td>\n",
       "      <td id=\"T_3b7b5_row4_col2\" class=\"data row4 col2\" >0.182</td>\n",
       "      <td id=\"T_3b7b5_row4_col3\" class=\"data row4 col3\" >0.139</td>\n",
       "      <td id=\"T_3b7b5_row4_col4\" class=\"data row4 col4\" >1.000</td>\n",
       "    </tr>\n",
       "  </tbody>\n",
       "</table>\n"
      ],
      "text/plain": [
       "<pandas.io.formats.style.Styler at 0x7fdab6267d90>"
      ]
     },
     "metadata": {},
     "output_type": "display_data"
    },
    {
     "data": {
      "text/plain": [
       "'--------------------------------------------------------------------'"
      ]
     },
     "metadata": {},
     "output_type": "display_data"
    }
   ],
   "source": [
    "from IPython.display import display\n",
    "\n",
    "for i, corr_matrix in enumerate(correlations):\n",
    " display(f\"geo {i}\")\n",
    " display(corr_matrix.style.background_gradient(cmap='RdBu', vmin=-1, vmax=1).set_precision(3))\n",
    " display(\"--------------------------------------------------------------------\")"
   ]
  },
  {
   "cell_type": "markdown",
   "metadata": {
    "id": "a4itqaLe-5-b"
   },
   "source": [
    "**Step 2: checking the variances**\n",
    "\n",
    "The below cell shows the variance of each feature over time. Variances which are lower than the specified low_variance_threshold or higher than the specified high_variance_threshold are marked in **red**. Make sure you are passing the scaled versions of your media_data and extra_features_data to the data quality checker for these variances before running this check!"
   ]
  },
  {
   "cell_type": "code",
   "execution_count": 10,
   "metadata": {
    "colab": {
     "height": 175
    },
    "executionInfo": {
     "elapsed": 73,
     "status": "ok",
     "timestamp": 1671214955644,
     "user": {
      "displayName": "Mike Anderson",
      "userId": "00199021437350119208"
     },
     "user_tz": 360
    },
    "id": "FduRz-Xh_F2C",
    "outputId": "6e3107f3-4254-4ebd-f8cd-05332fa4ecd1"
   },
   "outputs": [
    {
     "name": "stderr",
     "output_type": "stream",
     "text": [
      "/var/folders/b3/s5w4by_d2lgf312k7x5704tw0000gn/T/ipykernel_41755/1166160960.py:14: FutureWarning: this method is deprecated in favour of `Styler.format(precision=..)`\n",
      "  variances.style.set_precision(4).applymap(highlight_variances)\n"
     ]
    },
    {
     "data": {
      "text/html": [
       "<style type=\"text/css\">\n",
       "#T_a9da6_row0_col0, #T_a9da6_row0_col1, #T_a9da6_row1_col0, #T_a9da6_row1_col1, #T_a9da6_row2_col0, #T_a9da6_row2_col1, #T_a9da6_row3_col0, #T_a9da6_row3_col1 {\n",
       "  font-weight: normal;\n",
       "  color: black;\n",
       "}\n",
       "</style>\n",
       "<table id=\"T_a9da6\">\n",
       "  <thead>\n",
       "    <tr>\n",
       "      <th class=\"blank level0\" >&nbsp;</th>\n",
       "      <th id=\"T_a9da6_level0_col0\" class=\"col_heading level0 col0\" >geo_0</th>\n",
       "      <th id=\"T_a9da6_level0_col1\" class=\"col_heading level0 col1\" >geo_1</th>\n",
       "    </tr>\n",
       "  </thead>\n",
       "  <tbody>\n",
       "    <tr>\n",
       "      <th id=\"T_a9da6_level0_row0\" class=\"row_heading level0 row0\" >feature_0</th>\n",
       "      <td id=\"T_a9da6_row0_col0\" class=\"data row0 col0\" >0.0057</td>\n",
       "      <td id=\"T_a9da6_row0_col1\" class=\"data row0 col1\" >0.0057</td>\n",
       "    </tr>\n",
       "    <tr>\n",
       "      <th id=\"T_a9da6_level0_row1\" class=\"row_heading level0 row1\" >feature_1</th>\n",
       "      <td id=\"T_a9da6_row1_col0\" class=\"data row1 col0\" >0.0050</td>\n",
       "      <td id=\"T_a9da6_row1_col1\" class=\"data row1 col1\" >0.0050</td>\n",
       "    </tr>\n",
       "    <tr>\n",
       "      <th id=\"T_a9da6_level0_row2\" class=\"row_heading level0 row2\" >feature_2</th>\n",
       "      <td id=\"T_a9da6_row2_col0\" class=\"data row2 col0\" >0.0049</td>\n",
       "      <td id=\"T_a9da6_row2_col1\" class=\"data row2 col1\" >0.0049</td>\n",
       "    </tr>\n",
       "    <tr>\n",
       "      <th id=\"T_a9da6_level0_row3\" class=\"row_heading level0 row3\" >extra_feature_0</th>\n",
       "      <td id=\"T_a9da6_row3_col0\" class=\"data row3 col0\" >0.0445</td>\n",
       "      <td id=\"T_a9da6_row3_col1\" class=\"data row3 col1\" >0.0445</td>\n",
       "    </tr>\n",
       "  </tbody>\n",
       "</table>\n"
      ],
      "text/plain": [
       "<pandas.io.formats.style.Styler at 0x7fdab539bf10>"
      ]
     },
     "execution_count": 10,
     "metadata": {},
     "output_type": "execute_result"
    }
   ],
   "source": [
    "def highlight_variances(x: float, \n",
    "                        low_variance_threshold: float=1.0e-3, \n",
    "                        high_variance_threshold: float=3.0) -> str:\n",
    "\n",
    "    if x < low_variance_threshold or x > high_variance_threshold:\n",
    "      weight = 'bold'\n",
    "      color = 'red'\n",
    "    else:\n",
    "      weight = 'normal'\n",
    "      color = 'black'\n",
    "    style = f'font-weight: {weight}; color: {color}'\n",
    "    return style\n",
    "\n",
    "variances.style.set_precision(4).applymap(highlight_variances)\n"
   ]
  },
  {
   "cell_type": "markdown",
   "metadata": {
    "id": "doX4P8jn_jd1"
   },
   "source": [
    "**Step 3: Checking the spend fractions**\n",
    "\n",
    "This check is very straightforward. LMMM uses the total spend for each channel to set the prior on the channel's media contribution coefficient, as well as to calculate ROI later in the analysis. Thus the spend for each channel must be positive (not negative or zero), and ideally each channel should not be a negligibly small fraction of the total spend as well."
   ]
  },
  {
   "cell_type": "code",
   "execution_count": 11,
   "metadata": {
    "colab": {
     "height": 143
    },
    "executionInfo": {
     "elapsed": 62,
     "status": "ok",
     "timestamp": 1671214956134,
     "user": {
      "displayName": "Mike Anderson",
      "userId": "00199021437350119208"
     },
     "user_tz": 360
    },
    "id": "Yi09wUA4_nSa",
    "outputId": "b7ad0a8d-06f7-453c-c1ca-d549581d33f0"
   },
   "outputs": [
    {
     "name": "stderr",
     "output_type": "stream",
     "text": [
      "/var/folders/b3/s5w4by_d2lgf312k7x5704tw0000gn/T/ipykernel_41755/830043967.py:12: FutureWarning: this method is deprecated in favour of `Styler.format(precision=..)`\n",
      "  spend_fractions.style.set_precision(4).applymap(highlight_low_spend_fractions)\n"
     ]
    },
    {
     "data": {
      "text/html": [
       "<style type=\"text/css\">\n",
       "#T_7e20f_row0_col0, #T_7e20f_row1_col0, #T_7e20f_row2_col0 {\n",
       "  font-weight: normal;\n",
       "  color: black;\n",
       "}\n",
       "</style>\n",
       "<table id=\"T_7e20f\">\n",
       "  <thead>\n",
       "    <tr>\n",
       "      <th class=\"blank level0\" >&nbsp;</th>\n",
       "      <th id=\"T_7e20f_level0_col0\" class=\"col_heading level0 col0\" >fraction of spend</th>\n",
       "    </tr>\n",
       "  </thead>\n",
       "  <tbody>\n",
       "    <tr>\n",
       "      <th id=\"T_7e20f_level0_row0\" class=\"row_heading level0 row0\" >feature_0</th>\n",
       "      <td id=\"T_7e20f_row0_col0\" class=\"data row0 col0\" >0.3334</td>\n",
       "    </tr>\n",
       "    <tr>\n",
       "      <th id=\"T_7e20f_level0_row1\" class=\"row_heading level0 row1\" >feature_1</th>\n",
       "      <td id=\"T_7e20f_row1_col0\" class=\"data row1 col0\" >0.3348</td>\n",
       "    </tr>\n",
       "    <tr>\n",
       "      <th id=\"T_7e20f_level0_row2\" class=\"row_heading level0 row2\" >feature_2</th>\n",
       "      <td id=\"T_7e20f_row2_col0\" class=\"data row2 col0\" >0.3318</td>\n",
       "    </tr>\n",
       "  </tbody>\n",
       "</table>\n"
      ],
      "text/plain": [
       "<pandas.io.formats.style.Styler at 0x7fdab6266da0>"
      ]
     },
     "execution_count": 11,
     "metadata": {},
     "output_type": "execute_result"
    }
   ],
   "source": [
    "def highlight_low_spend_fractions(x: float,\n",
    "                                  low_spend_threshold: float=0.01) -> str:\n",
    "    if x < low_spend_threshold:\n",
    "      weight = 'bold'\n",
    "      color = 'red'\n",
    "    else:\n",
    "      weight = 'normal'\n",
    "      color = 'black'\n",
    "    style = f'font-weight: {weight}; color: {color}'\n",
    "    return style\n",
    "\n",
    "spend_fractions.style.set_precision(4).applymap(highlight_low_spend_fractions)\n"
   ]
  },
  {
   "cell_type": "markdown",
   "metadata": {
    "id": "zmM0U_Fc_qLg"
   },
   "source": [
    "**Step 4: Checking the variance inflation factors**\n",
    "\n",
    "While checking the correlation matrix in step 1 is usually sufficient for detetcing obvious multicollinearity in a dataset, the variance inflation factor is technically the best metric for identifying multicollinear features. Here we list the variance inflation factors for all features. If the number is too high (we use a threshold here of 7, but feel free to adjust to your use case) you might consider dropping or merging features with high variance inflation factors."
   ]
  },
  {
   "cell_type": "code",
   "execution_count": 12,
   "metadata": {
    "colab": {
     "height": 175
    },
    "executionInfo": {
     "elapsed": 71,
     "status": "ok",
     "timestamp": 1671214956642,
     "user": {
      "displayName": "Mike Anderson",
      "userId": "00199021437350119208"
     },
     "user_tz": 360
    },
    "id": "hnlHSZEH_p9c",
    "outputId": "c54c7864-946f-460a-cb8d-cd49f6929692"
   },
   "outputs": [
    {
     "name": "stderr",
     "output_type": "stream",
     "text": [
      "/var/folders/b3/s5w4by_d2lgf312k7x5704tw0000gn/T/ipykernel_41755/2645906300.py:12: FutureWarning: this method is deprecated in favour of `Styler.format(precision=..)`\n",
      "  variance_inflation_factors.style.set_precision(4).applymap(highlight_high_vif_values)\n"
     ]
    },
    {
     "data": {
      "text/html": [
       "<style type=\"text/css\">\n",
       "#T_f1364_row0_col0, #T_f1364_row0_col1, #T_f1364_row1_col0, #T_f1364_row1_col1, #T_f1364_row2_col0, #T_f1364_row2_col1, #T_f1364_row3_col0, #T_f1364_row3_col1 {\n",
       "  font-weight: normal;\n",
       "  color: black;\n",
       "}\n",
       "</style>\n",
       "<table id=\"T_f1364\">\n",
       "  <thead>\n",
       "    <tr>\n",
       "      <th class=\"blank level0\" >&nbsp;</th>\n",
       "      <th id=\"T_f1364_level0_col0\" class=\"col_heading level0 col0\" >geo_0</th>\n",
       "      <th id=\"T_f1364_level0_col1\" class=\"col_heading level0 col1\" >geo_1</th>\n",
       "    </tr>\n",
       "  </thead>\n",
       "  <tbody>\n",
       "    <tr>\n",
       "      <th id=\"T_f1364_level0_row0\" class=\"row_heading level0 row0\" >feature_0</th>\n",
       "      <td id=\"T_f1364_row0_col0\" class=\"data row0 col0\" >1.0162</td>\n",
       "      <td id=\"T_f1364_row0_col1\" class=\"data row0 col1\" >1.0162</td>\n",
       "    </tr>\n",
       "    <tr>\n",
       "      <th id=\"T_f1364_level0_row1\" class=\"row_heading level0 row1\" >feature_1</th>\n",
       "      <td id=\"T_f1364_row1_col0\" class=\"data row1 col0\" >1.0180</td>\n",
       "      <td id=\"T_f1364_row1_col1\" class=\"data row1 col1\" >1.0180</td>\n",
       "    </tr>\n",
       "    <tr>\n",
       "      <th id=\"T_f1364_level0_row2\" class=\"row_heading level0 row2\" >feature_2</th>\n",
       "      <td id=\"T_f1364_row2_col0\" class=\"data row2 col0\" >1.0236</td>\n",
       "      <td id=\"T_f1364_row2_col1\" class=\"data row2 col1\" >1.0236</td>\n",
       "    </tr>\n",
       "    <tr>\n",
       "      <th id=\"T_f1364_level0_row3\" class=\"row_heading level0 row3\" >extra_feature_0</th>\n",
       "      <td id=\"T_f1364_row3_col0\" class=\"data row3 col0\" >1.0242</td>\n",
       "      <td id=\"T_f1364_row3_col1\" class=\"data row3 col1\" >1.0242</td>\n",
       "    </tr>\n",
       "  </tbody>\n",
       "</table>\n"
      ],
      "text/plain": [
       "<pandas.io.formats.style.Styler at 0x7fdab539be50>"
      ]
     },
     "execution_count": 12,
     "metadata": {},
     "output_type": "execute_result"
    }
   ],
   "source": [
    "def highlight_high_vif_values(x: float,\n",
    "                              high_vif_threshold: float=7.0) -> str:\n",
    "    if x > high_vif_threshold:\n",
    "      weight = 'bold'\n",
    "      color = 'red'\n",
    "    else:\n",
    "      weight = 'normal'\n",
    "      color = 'black'\n",
    "    style = f'font-weight: {weight}; color: {color}'\n",
    "    return style\n",
    "\n",
    "variance_inflation_factors.style.set_precision(4).applymap(highlight_high_vif_values)\n"
   ]
  },
  {
   "cell_type": "markdown",
   "metadata": {
    "id": "eiJBiIjVJ4h9"
   },
   "source": [
    "### Training the model"
   ]
  },
  {
   "cell_type": "markdown",
   "metadata": {
    "id": "RNiMpZSjJ8KF"
   },
   "source": [
    "The currently available models are the following: \n",
    "- hill_adstock \n",
    "- adstock \n",
    "- carryover"
   ]
  },
  {
   "cell_type": "code",
   "execution_count": 13,
   "metadata": {
    "id": "nTmDycd3J-Iw"
   },
   "outputs": [],
   "source": [
    "mmm = lightweight_mmm.LightweightMMM(model_name=\"carryover\")"
   ]
  },
  {
   "cell_type": "markdown",
   "metadata": {
    "id": "S2XCraqXKA7B"
   },
   "source": [
    "Training the model will require the following mandatory parameters: \n",
    "- media\n",
    "- total_costs (one value per channel) \n",
    "- target\n",
    "\n",
    "We can optionally also pass the following: \n",
    "- extra_features: Other variables to add to the model. \n",
    "- degrees_seasonality: Number of degrees to use for seasonality. Default is 3. \n",
    "- seasonality_frequency: Frequency of the time period used. Default is 52 as in 52 weeks per year. \n",
    "- media_names: Names of the media channels passed. \n",
    "- number_warmup: Number of warm up samples. Default is 1000. \n",
    "- number_samples: Number of samples during sampling. Default is 1000. \n",
    "- number_chains: Number of chains to sample. Default is 2."
   ]
  },
  {
   "cell_type": "code",
   "execution_count": 14,
   "metadata": {
    "id": "aza-wH0N2d52"
   },
   "outputs": [],
   "source": [
    "number_warmup=1000\n",
    "number_samples=1000"
   ]
  },
  {
   "cell_type": "code",
   "execution_count": null,
   "metadata": {
    "executionInfo": {
     "elapsed": 249745,
     "status": "ok",
     "timestamp": 1671215207737,
     "user": {
      "displayName": "Mike Anderson",
      "userId": "00199021437350119208"
     },
     "user_tz": 360
    },
    "id": "FtVwGQITKDQp",
    "outputId": "eeb96caa-1a10-4eb6-9108-eeb5e329fc2c"
   },
   "outputs": [
    {
     "name": "stderr",
     "output_type": "stream",
     "text": [
      "/usr/local/anaconda3/envs/py310/lib/python3.10/site-packages/lightweight_mmm/lightweight_mmm.py:358: UserWarning: There are not enough devices to run parallel chains: expected 2 but got 1. Chains will be drawn sequentially. If you are running MCMC in CPU, consider using `numpyro.set_host_device_count(2)` at the beginning of your program. You can double-check how many devices are available in your system using `jax.local_device_count()`.\n",
      "  mcmc = numpyro.infer.MCMC(\n",
      "sample:  67%|██████████████████████████████▉               | 1343/2000 [01:21<00:24, 26.59it/s, 255 steps of size 1.63e-02. acc. prob=0.92]"
     ]
    }
   ],
   "source": [
    "# For replicability in terms of random number generation in sampling\n",
    "# reuse the same seed for different trainings.\n",
    "mmm.fit(\n",
    "    media=media_data_train,\n",
    "    media_prior=costs,\n",
    "    target=target_train,\n",
    "    extra_features=extra_features_train,\n",
    "    number_warmup=number_warmup,\n",
    "    number_samples=number_samples,\n",
    "    seed=SEED)"
   ]
  },
  {
   "cell_type": "markdown",
   "metadata": {
    "id": "Qwwi7E61KKdL"
   },
   "source": [
    "You can check the summary of your trace by printing a summary:"
   ]
  },
  {
   "cell_type": "code",
   "execution_count": null,
   "metadata": {
    "executionInfo": {
     "elapsed": 65,
     "status": "ok",
     "timestamp": 1671215208231,
     "user": {
      "displayName": "Mike Anderson",
      "userId": "00199021437350119208"
     },
     "user_tz": 360
    },
    "id": "sJUiM-1vKMt_",
    "outputId": "e7595fa8-b029-4779-cb2f-877a83f46b94"
   },
   "outputs": [],
   "source": [
    "mmm.print_summary()"
   ]
  },
  {
   "cell_type": "markdown",
   "metadata": {
    "id": "7npbmDKfKNMX"
   },
   "source": [
    "We can visualise the posterior distributions of the media effects, one for each channel-geo combination."
   ]
  },
  {
   "cell_type": "code",
   "execution_count": null,
   "metadata": {
    "colab": {
     "height": 907
    },
    "executionInfo": {
     "elapsed": 2182,
     "status": "ok",
     "timestamp": 1671215210822,
     "user": {
      "displayName": "Mike Anderson",
      "userId": "00199021437350119208"
     },
     "user_tz": 360
    },
    "id": "BpqYqFNqKNTc",
    "outputId": "b58b5a3a-4f45-4e6b-8f93-6bf0b5e15f0e"
   },
   "outputs": [],
   "source": [
    "plot.plot_media_channel_posteriors(media_mix_model=mmm)"
   ]
  },
  {
   "cell_type": "markdown",
   "metadata": {
    "id": "D6o780pau8gj"
   },
   "source": [
    "**[*optional*]**\n",
    "\n",
    " LightweightMMM also allows you to visualize the prior and posterior distributions for every model parameter at once. Note that we use a kernel density estimator to smooth these distributions for easier interpretability; you may need to adjust the bandwidth of the smoother depending on the shapes of your distributions.\n",
    "Also, this plot **can take several minutes to run**, especially if using geo-level models. Lowering the number_of_samples_for_prior or restricting to a subset of selected_features can speed up the runtime. "
   ]
  },
  {
   "cell_type": "code",
   "execution_count": null,
   "metadata": {
    "colab": {
     "height": 1000
    },
    "executionInfo": {
     "elapsed": 13635,
     "status": "ok",
     "timestamp": 1671215224939,
     "user": {
      "displayName": "Mike Anderson",
      "userId": "00199021437350119208"
     },
     "user_tz": 360
    },
    "id": "Bqjn4uvyu9-d",
    "outputId": "281e8274-d395-42ee-a209-9118a4558b4a"
   },
   "outputs": [],
   "source": [
    "plot.plot_prior_and_posterior(media_mix_model=mmm)"
   ]
  },
  {
   "cell_type": "markdown",
   "metadata": {
    "id": "AwgyS0W-KNbx"
   },
   "source": [
    "One can also check your model's fit to the training data, one plot per geo."
   ]
  },
  {
   "cell_type": "code",
   "execution_count": null,
   "metadata": {
    "colab": {
     "height": 851
    },
    "executionInfo": {
     "elapsed": 24403,
     "status": "ok",
     "timestamp": 1671215249819,
     "user": {
      "displayName": "Mike Anderson",
      "userId": "00199021437350119208"
     },
     "user_tz": 360
    },
    "id": "tw-TF20IKNi5",
    "outputId": "18282371-7848-44c6-8ba3-b15dea02a279"
   },
   "outputs": [],
   "source": [
    "# Here is another example where we can pass the target scaler if you want the plot to be in the \"not scaled scale\"\n",
    "plot.plot_model_fit(mmm, target_scaler=target_scaler)"
   ]
  },
  {
   "cell_type": "markdown",
   "metadata": {
    "id": "4v50_s1sKNrN"
   },
   "source": [
    "If one wants to run predictions on unseen data they can rely on the `predict`\n",
    "method:"
   ]
  },
  {
   "cell_type": "code",
   "execution_count": null,
   "metadata": {
    "executionInfo": {
     "elapsed": 1043,
     "status": "ok",
     "timestamp": 1671215251197,
     "user": {
      "displayName": "Mike Anderson",
      "userId": "00199021437350119208"
     },
     "user_tz": 360
    },
    "id": "yQuUUolAKN0W",
    "outputId": "bb3b8ae0-3071-455c-8533-ff391aebe555"
   },
   "outputs": [],
   "source": [
    "# We have to scale the test media data if we have not done so before.\n",
    "new_predictions = mmm.predict(media=media_scaler.transform(media_data_test),\n",
    "                              extra_features=extra_features_scaler.transform(extra_features_test),\n",
    "                              seed=SEED)\n",
    "new_predictions.shape"
   ]
  },
  {
   "cell_type": "code",
   "execution_count": null,
   "metadata": {
    "colab": {
     "height": 851
    },
    "executionInfo": {
     "elapsed": 7592,
     "status": "ok",
     "timestamp": 1671215259104,
     "user": {
      "displayName": "Mike Anderson",
      "userId": "00199021437350119208"
     },
     "user_tz": 360
    },
    "id": "e0a9JyiMKN8q",
    "outputId": "853e675c-4387-40f7-ee02-5364e59b820a"
   },
   "outputs": [],
   "source": [
    "plot.plot_out_of_sample_model_fit(out_of_sample_predictions=new_predictions,\n",
    "                                 out_of_sample_target=target_scaler.transform(target[split_point:]))"
   ]
  },
  {
   "cell_type": "markdown",
   "metadata": {
    "id": "MDMW2Pe-KOEm"
   },
   "source": [
    "### Media insights"
   ]
  },
  {
   "cell_type": "code",
   "execution_count": null,
   "metadata": {
    "id": "qQUnoKKQKONT"
   },
   "outputs": [],
   "source": [
    "media_contribution, roi_hat = mmm.get_posterior_metrics(target_scaler=target_scaler, cost_scaler=cost_scaler)"
   ]
  },
  {
   "cell_type": "markdown",
   "metadata": {
    "id": "szhjLnpHKOWc"
   },
   "source": [
    "We can quickly visualise the estimated media contributions with their respective\n",
    "credibility intervals."
   ]
  },
  {
   "cell_type": "code",
   "execution_count": null,
   "metadata": {
    "colab": {
     "height": 480
    },
    "executionInfo": {
     "elapsed": 310,
     "status": "ok",
     "timestamp": 1671215260278,
     "user": {
      "displayName": "Mike Anderson",
      "userId": "00199021437350119208"
     },
     "user_tz": 360
    },
    "id": "Hi3nJDE8KOfk",
    "outputId": "55f14afd-e3c2-4332-f28d-152a38c2e88e"
   },
   "outputs": [],
   "source": [
    "plot.plot_bars_media_metrics(metric=media_contribution, metric_name=\"Media Contribution Percentage\")"
   ]
  },
  {
   "cell_type": "markdown",
   "metadata": {
    "id": "bLV5Alk0CfR3"
   },
   "source": [
    "We can quickly visualise the estimated media & baseline contribution over time"
   ]
  },
  {
   "cell_type": "code",
   "execution_count": null,
   "metadata": {
    "colab": {
     "height": 477
    },
    "executionInfo": {
     "elapsed": 1328,
     "status": "ok",
     "timestamp": 1671215262038,
     "user": {
      "displayName": "Mike Anderson",
      "userId": "00199021437350119208"
     },
     "user_tz": 360
    },
    "id": "WRh8WP8xCkLE",
    "outputId": "1232b17a-4554-4dd2-f0ec-3c5164382e5e"
   },
   "outputs": [],
   "source": [
    "plot.plot_media_baseline_contribution_area_plot(media_mix_model=mmm,\n",
    "                                                target_scaler=target_scaler,\n",
    "                                                fig_size=(30,10))"
   ]
  },
  {
   "cell_type": "code",
   "execution_count": null,
   "metadata": {
    "colab": {
     "height": 480
    },
    "executionInfo": {
     "elapsed": 127,
     "status": "ok",
     "timestamp": 1671215262509,
     "user": {
      "displayName": "Mike Anderson",
      "userId": "00199021437350119208"
     },
     "user_tz": 360
    },
    "id": "oC82BdUJKOoT",
    "outputId": "d07c2d7b-9bdb-4b70-fbb0-b4082866b87a"
   },
   "outputs": [],
   "source": [
    "plot.plot_bars_media_metrics(metric=roi_hat, metric_name=\"ROI hat\")"
   ]
  },
  {
   "cell_type": "markdown",
   "metadata": {
    "id": "TR_m4DvmKOx0"
   },
   "source": [
    "Another vital question we can solve with MMMs is how each media channel behaves\n",
    "individually as we invest more in it.\n",
    "\n",
    "For that we can plot the curve response of all media channels with the following\n",
    "function:\n"
   ]
  },
  {
   "cell_type": "code",
   "execution_count": null,
   "metadata": {
    "colab": {
     "height": 1000
    },
    "executionInfo": {
     "elapsed": 8303,
     "status": "ok",
     "timestamp": 1671215271105,
     "user": {
      "displayName": "Mike Anderson",
      "userId": "00199021437350119208"
     },
     "user_tz": 360
    },
    "id": "w6DfZdyUKO6k",
    "outputId": "4a09c6b9-37b0-4313-c6dc-5314b7b7ade6"
   },
   "outputs": [],
   "source": [
    "plot.plot_response_curves(\n",
    "    media_mix_model=mmm, target_scaler=target_scaler, seed=SEED)"
   ]
  },
  {
   "cell_type": "markdown",
   "metadata": {
    "id": "qNEQkwvZKPDR"
   },
   "source": [
    "### Optimization"
   ]
  },
  {
   "cell_type": "markdown",
   "metadata": {
    "id": "0IslzAcNKPLO"
   },
   "source": [
    "The optimization is meant to solve the budget allocation questions for you. Note that the optimization is done at a national level, not a geo level, since we typically use MMMs to inform channel-level decisions at a high level.\n",
    "\n",
    "First you need to provide for how long you want to optimize your budget (eg. 10\n",
    "weeks in this case).\n"
   ]
  },
  {
   "cell_type": "markdown",
   "metadata": {
    "id": "ULQZGNMlKPT6"
   },
   "source": [
    "The optimization values will be bounded by +- 20% of the max and min historic\n",
    "values used for training. Which means the optimization won't recommend to\n",
    "completely change your strategy but how to make some budget re-allocation.\n",
    "\n",
    "You can change that percentage with the following parameters: -\n",
    "bounds_lower_pct - bounds_upper_pct\n",
    "\n",
    "Which can hold 1 value for all channels or 1 value per channel."
   ]
  },
  {
   "cell_type": "markdown",
   "metadata": {
    "id": "xDw5WtooKPde"
   },
   "source": [
    "Prices are the average price you would expect for the media units of each\n",
    "channel. If your data is already a money unit (eg. $) your prices should be an\n",
    "array of 1s."
   ]
  },
  {
   "cell_type": "code",
   "execution_count": null,
   "metadata": {
    "id": "t3TaoXYjKPmr"
   },
   "outputs": [],
   "source": [
    "prices = jnp.ones(mmm.n_media_channels)"
   ]
  },
  {
   "cell_type": "markdown",
   "metadata": {
    "id": "yF6JjbqPKP2R"
   },
   "source": [
    "The budget is how much one would like to allocate throughtout the total of\n",
    "`n_time_periods`. Make sure this amount is inline with the historic spend or\n",
    "otherwise some conditions/bounds in the optimization might not be met."
   ]
  },
  {
   "cell_type": "code",
   "execution_count": null,
   "metadata": {
    "id": "ReGi5AGTL86q"
   },
   "outputs": [],
   "source": [
    "n_time_periods = 10\n",
    "budget = jnp.sum(jnp.dot(prices, media_data.mean(axis=0)))* n_time_periods"
   ]
  },
  {
   "cell_type": "code",
   "execution_count": null,
   "metadata": {
    "executionInfo": {
     "elapsed": 28350,
     "status": "ok",
     "timestamp": 1671215300406,
     "user": {
      "displayName": "Mike Anderson",
      "userId": "00199021437350119208"
     },
     "user_tz": 360
    },
    "id": "qtt9L4aPL-cs",
    "outputId": "7087cca4-fd8f-4bef-e5f9-167220017a46"
   },
   "outputs": [],
   "source": [
    "# Run optimization with the parameters of choice.\n",
    "solution, kpi_without_optim, previous_media_allocation = optimize_media.find_optimal_budgets(\n",
    "    n_time_periods=n_time_periods,\n",
    "    media_mix_model=mmm,\n",
    "    extra_features=extra_features_scaler.transform(extra_features_test)[:n_time_periods],\n",
    "    budget=budget,\n",
    "    prices=prices,\n",
    "    media_scaler=media_scaler,\n",
    "    target_scaler=target_scaler,\n",
    "    seed=SEED)"
   ]
  },
  {
   "cell_type": "code",
   "execution_count": null,
   "metadata": {
    "executionInfo": {
     "elapsed": 66,
     "status": "ok",
     "timestamp": 1671215300738,
     "user": {
      "displayName": "Mike Anderson",
      "userId": "00199021437350119208"
     },
     "user_tz": 360
    },
    "id": "C2FIJu82MAk9",
    "outputId": "2dfb2e8f-8996-48b5-8e72-984906644cea"
   },
   "outputs": [],
   "source": [
    "# Obtain the optimal weekly allocation.\n",
    "optimal_buget_allocation = prices * solution.x\n",
    "optimal_buget_allocation"
   ]
  },
  {
   "cell_type": "code",
   "execution_count": null,
   "metadata": {
    "executionInfo": {
     "elapsed": 60,
     "status": "ok",
     "timestamp": 1671215301051,
     "user": {
      "displayName": "Mike Anderson",
      "userId": "00199021437350119208"
     },
     "user_tz": 360
    },
    "id": "MTa3vYKSy4Mv",
    "outputId": "1add392c-4dbb-46c5-d841-0bbebbfde0a9"
   },
   "outputs": [],
   "source": [
    "# similar renormalization to get previous budget allocation\n",
    "previous_budget_allocation = prices * previous_media_allocation\n",
    "previous_budget_allocation"
   ]
  },
  {
   "cell_type": "code",
   "execution_count": null,
   "metadata": {
    "executionInfo": {
     "elapsed": 80,
     "status": "ok",
     "timestamp": 1671215301440,
     "user": {
      "displayName": "Mike Anderson",
      "userId": "00199021437350119208"
     },
     "user_tz": 360
    },
    "id": "XS1rHOfaMCBt",
    "outputId": "d25ca35f-b8ea-4406-97f6-3c4efe11b354"
   },
   "outputs": [],
   "source": [
    "# Both these values should be very close in order to compare KPI\n",
    "budget, optimal_buget_allocation.sum()"
   ]
  },
  {
   "cell_type": "markdown",
   "metadata": {
    "id": "LvMc28XKMEt_"
   },
   "source": [
    "We can double check the budget constraint was met:"
   ]
  },
  {
   "cell_type": "code",
   "execution_count": null,
   "metadata": {
    "executionInfo": {
     "elapsed": 65,
     "status": "ok",
     "timestamp": 1671215301761,
     "user": {
      "displayName": "Mike Anderson",
      "userId": "00199021437350119208"
     },
     "user_tz": 360
    },
    "id": "ffZl2W-pMFrD",
    "outputId": "5df0cb27-27b5-4aa0-faf6-7ff43fbfa69c"
   },
   "outputs": [],
   "source": [
    "# Both numbers should be almost equal\n",
    "budget, jnp.sum(solution.x * prices)"
   ]
  },
  {
   "cell_type": "markdown",
   "metadata": {
    "id": "bnUd2k_N8vFt"
   },
   "source": [
    "## We can plot the following:\n",
    "1. Pre post optimization budget allocation comparison for each channel\n",
    "2. Pre post optimization predicted target variable comparison"
   ]
  },
  {
   "cell_type": "code",
   "execution_count": null,
   "metadata": {
    "colab": {
     "height": 1000
    },
    "executionInfo": {
     "elapsed": 617,
     "status": "ok",
     "timestamp": 1671215302630,
     "user": {
      "displayName": "Mike Anderson",
      "userId": "00199021437350119208"
     },
     "user_tz": 360
    },
    "id": "eJvFj5fF8x9v",
    "outputId": "f7010349-c129-479e-df57-cc8f6ed1c413"
   },
   "outputs": [],
   "source": [
    "# Plot out pre post optimization budget allocation and predicted target variable comparison.\n",
    "plot.plot_pre_post_budget_allocation_comparison(media_mix_model=mmm, \n",
    "                                                kpi_with_optim=solution['fun'], \n",
    "                                                kpi_without_optim=kpi_without_optim,\n",
    "                                                optimal_buget_allocation=optimal_buget_allocation, \n",
    "                                                previous_budget_allocation=previous_budget_allocation,\n",
    "                                                figure_size=(10,10))"
   ]
  },
  {
   "cell_type": "markdown",
   "metadata": {
    "id": "o3UbFu9VSRq9"
   },
   "source": [
    "## Saving the model to disk"
   ]
  },
  {
   "cell_type": "code",
   "execution_count": null,
   "metadata": {
    "id": "g5SxNNBRPs6n"
   },
   "outputs": [],
   "source": [
    "# We can use the utilities for saving models to disk.\n",
    "file_path = \"media_mix_model.pkl\"\n",
    "utils.save_model(media_mix_model=mmm, file_path=file_path)"
   ]
  },
  {
   "cell_type": "code",
   "execution_count": null,
   "metadata": {
    "executionInfo": {
     "elapsed": 72,
     "status": "ok",
     "timestamp": 1671215303355,
     "user": {
      "displayName": "Mike Anderson",
      "userId": "00199021437350119208"
     },
     "user_tz": 360
    },
    "id": "74Fx-1N4HQsJ",
    "outputId": "02e89214-abc0-4684-8337-a36e6e9dcb32"
   },
   "outputs": [],
   "source": [
    "# Once saved one can load the models.\n",
    "loaded_mmm = utils.load_model(file_path=file_path)\n",
    "loaded_mmm.trace[\"coef_media\"].shape # Example of accessing any of the model values."
   ]
  }
 ],
 "metadata": {
  "colab": {
   "last_runtime": {
    "build_target": "//corp/gtech/ads/infrastructure/colab_utils/ds_runtime:ds_colab",
    "kind": "private"
   },
   "provenance": [
    {
     "file_id": "/piper/depot/google3/third_party/professional_services/solutions/lightweight_mmm/examples/end_to_end_demo_with_multiple_geos.ipynb",
     "timestamp": 1678976271147
    },
    {
     "file_id": "1MrxWaQzXqPOGzN-aMrLmKajtkWNnER_h",
     "timestamp": 1671216158173
    },
    {
     "file_id": "/piper/depot/google3/third_party/professional_services/solutions/lightweight_mmm/examples/end_to_end_demo_with_multiple_geos.ipynb",
     "timestamp": 1671139040460
    },
    {
     "file_id": "/piper/depot/google3/third_party/professional_services/solutions/lightweight_mmm/examples/end_to_end_demo_with_multiple_geos.ipynb?workspaceId=mikeanderson:lmmm_example_update::citc",
     "timestamp": 1666279875042
    },
    {
     "file_id": "/piper/depot/google3/third_party/professional_services/solutions/lightweight_mmm/examples/end_to_end_demo_with_multiple_geos.ipynb",
     "timestamp": 1666279584642
    },
    {
     "file_id": "1Y1tgBcMYUaPERCykBmDe_DVnqIGVKqo2",
     "timestamp": 1665106270046
    },
    {
     "file_id": "/piper/depot/google3/third_party/professional_services/solutions/lightweight_mmm/examples/end_to_end_demo_with_multiple_geos.ipynb",
     "timestamp": 1665066589012
    },
    {
     "file_id": "1h9Vy2NWSIK08W8lzWagJlWtbEHgziYy-",
     "timestamp": 1652131813126
    },
    {
     "file_id": "/piper/depot/google3/third_party/professional_services/solutions/lightweight_mmm/examples/simple_end_to_end_demo.ipynb",
     "timestamp": 1651868051184
    },
    {
     "file_id": "1pa-fx5Uxyj9IiEM02BmGZD3OkTAu7RPw",
     "timestamp": 1643805668822
    }
   ]
  },
  "kernelspec": {
   "display_name": "Python 3 (ipykernel)",
   "language": "python",
   "name": "python3"
  },
  "language_info": {
   "codemirror_mode": {
    "name": "ipython",
    "version": 3
   },
   "file_extension": ".py",
   "mimetype": "text/x-python",
   "name": "python",
   "nbconvert_exporter": "python",
   "pygments_lexer": "ipython3",
   "version": "3.10.6"
  }
 },
 "nbformat": 4,
 "nbformat_minor": 1
}
